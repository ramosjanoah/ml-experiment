{
 "cells": [
  {
   "cell_type": "markdown",
   "metadata": {},
   "source": [
    "# Machine Learning Experiment\n",
    "\n",
    "oleh: \n",
    "- Alson Cahyadi 13514035\n",
    "- Ramos Janoah 13514089\n",
    "- Jovian Christianto 13514101\n"
   ]
  },
  {
   "cell_type": "markdown",
   "metadata": {},
   "source": [
    "## Task Specification\n",
    "Spesifikasi task pada eksperimen ini adalah sebagai berikut:\n",
    "![Task](spek.jpg)"
   ]
  },
  {
   "cell_type": "markdown",
   "metadata": {},
   "source": [
    "## Import Library"
   ]
  },
  {
   "cell_type": "code",
   "execution_count": 85,
   "metadata": {
    "collapsed": false
   },
   "outputs": [],
   "source": [
    "import pandas as pd\n",
    "import numpy as np"
   ]
  },
  {
   "cell_type": "markdown",
   "metadata": {},
   "source": [
    "## 2a. Reading Dataset\n",
    "Dataset yang dibaca adalah dataset iris.csv dan tennis.csv"
   ]
  },
  {
   "cell_type": "code",
   "execution_count": 68,
   "metadata": {
    "collapsed": false
   },
   "outputs": [
    {
     "name": "stdout",
     "output_type": "stream",
     "text": [
      "Iris dataset head:\n",
      "   sepal_length  sepal_width  petal_length  petal_width species\n",
      "0           5.1          3.5           1.4          0.2  setosa\n",
      "1           4.9          3.0           1.4          0.2  setosa\n",
      "2           4.7          3.2           1.3          0.2  setosa\n",
      "3           4.6          3.1           1.5          0.2  setosa\n",
      "4           5.0          3.6           1.4          0.2  setosa\n",
      "\n",
      "Tennis dataset head:\n",
      "  day   outlook  temp humidity    wind play\n",
      "0  D1     Sunny   Hot     High    Weak   No\n",
      "1  D2     Sunny   Hot     High  Strong   No\n",
      "2  D3  Overcast   Hot     High    Weak  Yes\n",
      "3  D4      Rain  Mild     High    Weak  Yes\n",
      "4  D5      Rain  Cool   Normal    Weak  Yes\n"
     ]
    }
   ],
   "source": [
    "# reading iris\n",
    "iris = pd.read_csv('data/iris.csv')\n",
    "# reading tennis\n",
    "tennis = pd.read_csv('data/tennis.csv')\n",
    "\n",
    "print(\"Iris dataset head:\")\n",
    "print(iris.head())\n",
    "print()\n",
    "print(\"Tennis dataset head:\")\n",
    "print(tennis.head())"
   ]
  },
  {
   "cell_type": "markdown",
   "metadata": {},
   "source": [
    "## 2b. Training"
   ]
  },
  {
   "cell_type": "markdown",
   "metadata": {},
   "source": [
    "### Decision Tree training for Iris Dataset - Full training"
   ]
  },
  {
   "cell_type": "code",
   "execution_count": 84,
   "metadata": {
    "collapsed": false
   },
   "outputs": [],
   "source": [
    "from sklearn import tree\n",
    "\n",
    "feature = iris[['sepal_length', 'sepal_width', 'petal_length', 'petal_width']].as_matrix()\n",
    "label = iris['species'].values\n",
    "\n",
    "clf_tree = tree.DecisionTreeClassifier()\n",
    "clf_tree = clf.fit(feature, label)"
   ]
  },
  {
   "cell_type": "markdown",
   "metadata": {},
   "source": [
    "### ANN training for Iris Dataset - Full training"
   ]
  },
  {
   "cell_type": "code",
   "execution_count": 82,
   "metadata": {
    "collapsed": false
   },
   "outputs": [
    {
     "ename": "SyntaxError",
     "evalue": "invalid syntax (<ipython-input-82-a6f97c6bf5af>, line 3)",
     "output_type": "error",
     "traceback": [
      "\u001b[0;36m  File \u001b[0;32m\"<ipython-input-82-a6f97c6bf5af>\"\u001b[0;36m, line \u001b[0;32m3\u001b[0m\n\u001b[0;31m    clf_ann =\u001b[0m\n\u001b[0m              ^\u001b[0m\n\u001b[0;31mSyntaxError\u001b[0m\u001b[0;31m:\u001b[0m invalid syntax\n"
     ]
    }
   ],
   "source": [
    "from sklearn.neural_network import MLPClassifier\n",
    "\n",
    "clf = MLPClassifier(solver='lbfgs', alpha=1e-5, hidden_layer_sizes=(5, 2), random_state=1\n"
   ]
  }
 ],
 "metadata": {
  "anaconda-cloud": {},
  "kernelspec": {
   "display_name": "Python [conda root]",
   "language": "python",
   "name": "conda-root-py"
  },
  "language_info": {
   "codemirror_mode": {
    "name": "ipython",
    "version": 3
   },
   "file_extension": ".py",
   "mimetype": "text/x-python",
   "name": "python",
   "nbconvert_exporter": "python",
   "pygments_lexer": "ipython3",
   "version": "3.5.2"
  }
 },
 "nbformat": 4,
 "nbformat_minor": 1
}
