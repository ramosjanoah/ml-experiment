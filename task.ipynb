{
 "cells": [
  {
   "cell_type": "markdown",
   "metadata": {},
   "source": [
    "# Machine Learning Experiment\n",
    "\n",
    "by:\n",
    "- Alson Cahyadi 13514035\n",
    "- Ramos Janoah 13514089\n",
    "- Jovian Christianto 13514101"
   ]
  },
  {
   "cell_type": "markdown",
   "metadata": {},
   "source": [
    "## Task Specification\n",
    "\n",
    "Jupyter Notebook (http://jupyter.org/ ) memudahkan kita untuk membuat dan men-share dokumen yang merupakan gabungan dari live code, equation, visualisasi dan catatan. Jupyter dapat digunakan untuk visualisasi, pembersihan dan data transformasi, statistical model dan machine learning. Scikitlearn merupakan library machine learning pada bahasa python.\n",
    "\n",
    "1. Lakukan eksplorasi scikit learn pada Jupiter Netbookdan bacalah dokumentasinya:\n",
    "    - https://jupyternotebook.readthedocs.io/en/stable/notebook.html\n",
    "    - http://scikit-learn.org/stable/documentation.html\n",
    "\n",
    "2. Tulislah script dalam bahasa python pada satu notebook untuk melakukan task berikut ini:\n",
    "    - Membaca dataset standar iris dan dataset play-tennis (dataset eksternal dalam format csv). Gunakanlah sklearn.datasets untuk membaca dataset standar. Untuk membaca dataset csv, gunakanlah Python Data Analysis Library \n",
    "    http://pandas.pydata.org/\n",
    "    - Melakukan pembelajaran:\n",
    "        DecisionTree (http://scikit-learn.org/stable/modules/tree.html), \n",
    "        dan Artificial Neural Network (http://scikitlearn.org/stable/modules/neural_networks_supervised.html) \n",
    "        untuk dataset iris dengan skema full-training, dan menampilkan modelnya.\n",
    "    - Melakukan pembelajaran DecisionTree, dan ANN untuk dataset iris dengan skema split train 90% dan test 10%, \n",
    "        dan menampilkan kinerja serta confusion matrixnya.\n",
    "    - Melakukan pembelajaran DecisionTree, dan ANN untuk dataset iris dengan skema 10-fold cross validation, \n",
    "        dan menampilkan kinerjanya.\n",
    "    - Menyimpan (save) model/hipotesis hasil pembelajaran ke sebuah file eksternal\n",
    "    - Membaca (read)model/hipotesis dari file eksternal\n",
    "    - Membuat instance baru dengan memberi nilai untuk setiap atribut\n",
    "    - Melakukan klasifikasi dengan memanfaatkan model/hipotesis DecisionTree, dan ANN pada instance pada g.\n",
    "    - Melakukan analisis fitur dengan visualisasi hubungan setiap fitur dengan kelas. Gunakanlah seaborn (https://seaborn.pydata.org/ ).\n",
    "4. Tugas dikerjakan berkelompok, dan 1 kelompok terdiri atas 3 mahasiswa (boleh gabungan mahasiswa K1 dan K2). Kelompok yang sama akan digunakan untuk eksperimen.\n",
    "5. Tugas dikumpulkan berupa file .ipynb dan pdf dengan isi laporan sesuai ketentuan butir tiga. Hanya salah satu anggota kelompok saja yang uplad file tugas pada website ini.\n",
    "6. Penamaan file yang dikumpulkan: Tucil2_[NIM salah satu anggota].zip (misal: Tucil2_13515001.zip yang berisi Tucil2_13515001.ipynb dan Tucil2_13515001.pdf).\n",
    "7. Pengumpulan yang terlambat tidak diperbolehkan, batas akhir adalah hari Minggu, 29Oktober 2017 jam 23.59 (waktu situs ini)."
   ]
  },
  {
   "cell_type": "markdown",
   "metadata": {},
   "source": [
    "### Checking sckit-learn version"
   ]
  },
  {
   "cell_type": "code",
   "execution_count": 1,
   "metadata": {},
   "outputs": [
    {
     "name": "stdout",
     "output_type": "stream",
     "text": [
      "The scikit-learn version is 0.18.1.\n"
     ]
    }
   ],
   "source": [
    "import sklearn\n",
    "print('The scikit-learn version is {}.'.format(sklearn.__version__))"
   ]
  },
  {
   "cell_type": "markdown",
   "metadata": {},
   "source": [
    "## Import Library"
   ]
  },
  {
   "cell_type": "code",
   "execution_count": 2,
   "metadata": {
    "collapsed": true
   },
   "outputs": [],
   "source": [
    "import pandas as pd\n",
    "import numpy as np"
   ]
  },
  {
   "cell_type": "markdown",
   "metadata": {},
   "source": [
    "## 2a. Reading Dataset\n",
    "Dataset yang dibaca adalah dataset iris.csv dan tennis.csv"
   ]
  },
  {
   "cell_type": "code",
   "execution_count": 3,
   "metadata": {
    "collapsed": true
   },
   "outputs": [],
   "source": [
    "# reading iris\n",
    "iris = pd.read_csv('data/iris.csv')\n",
    "# reading tennis\n",
    "tennis = pd.read_csv('data/tennis.csv')"
   ]
  },
  {
   "cell_type": "code",
   "execution_count": 4,
   "metadata": {},
   "outputs": [
    {
     "data": {
      "text/html": [
       "<div>\n",
       "<style>\n",
       "    .dataframe thead tr:only-child th {\n",
       "        text-align: right;\n",
       "    }\n",
       "\n",
       "    .dataframe thead th {\n",
       "        text-align: left;\n",
       "    }\n",
       "\n",
       "    .dataframe tbody tr th {\n",
       "        vertical-align: top;\n",
       "    }\n",
       "</style>\n",
       "<table border=\"1\" class=\"dataframe\">\n",
       "  <thead>\n",
       "    <tr style=\"text-align: right;\">\n",
       "      <th></th>\n",
       "      <th>sepal_length</th>\n",
       "      <th>sepal_width</th>\n",
       "      <th>petal_length</th>\n",
       "      <th>petal_width</th>\n",
       "      <th>species</th>\n",
       "    </tr>\n",
       "  </thead>\n",
       "  <tbody>\n",
       "    <tr>\n",
       "      <th>0</th>\n",
       "      <td>5.1</td>\n",
       "      <td>3.5</td>\n",
       "      <td>1.4</td>\n",
       "      <td>0.2</td>\n",
       "      <td>setosa</td>\n",
       "    </tr>\n",
       "    <tr>\n",
       "      <th>1</th>\n",
       "      <td>4.9</td>\n",
       "      <td>3.0</td>\n",
       "      <td>1.4</td>\n",
       "      <td>0.2</td>\n",
       "      <td>setosa</td>\n",
       "    </tr>\n",
       "    <tr>\n",
       "      <th>2</th>\n",
       "      <td>4.7</td>\n",
       "      <td>3.2</td>\n",
       "      <td>1.3</td>\n",
       "      <td>0.2</td>\n",
       "      <td>setosa</td>\n",
       "    </tr>\n",
       "    <tr>\n",
       "      <th>3</th>\n",
       "      <td>4.6</td>\n",
       "      <td>3.1</td>\n",
       "      <td>1.5</td>\n",
       "      <td>0.2</td>\n",
       "      <td>setosa</td>\n",
       "    </tr>\n",
       "    <tr>\n",
       "      <th>4</th>\n",
       "      <td>5.0</td>\n",
       "      <td>3.6</td>\n",
       "      <td>1.4</td>\n",
       "      <td>0.2</td>\n",
       "      <td>setosa</td>\n",
       "    </tr>\n",
       "  </tbody>\n",
       "</table>\n",
       "</div>"
      ],
      "text/plain": [
       "   sepal_length  sepal_width  petal_length  petal_width species\n",
       "0           5.1          3.5           1.4          0.2  setosa\n",
       "1           4.9          3.0           1.4          0.2  setosa\n",
       "2           4.7          3.2           1.3          0.2  setosa\n",
       "3           4.6          3.1           1.5          0.2  setosa\n",
       "4           5.0          3.6           1.4          0.2  setosa"
      ]
     },
     "execution_count": 4,
     "metadata": {},
     "output_type": "execute_result"
    }
   ],
   "source": [
    "iris.head()"
   ]
  },
  {
   "cell_type": "code",
   "execution_count": 5,
   "metadata": {},
   "outputs": [
    {
     "data": {
      "text/html": [
       "<div>\n",
       "<style>\n",
       "    .dataframe thead tr:only-child th {\n",
       "        text-align: right;\n",
       "    }\n",
       "\n",
       "    .dataframe thead th {\n",
       "        text-align: left;\n",
       "    }\n",
       "\n",
       "    .dataframe tbody tr th {\n",
       "        vertical-align: top;\n",
       "    }\n",
       "</style>\n",
       "<table border=\"1\" class=\"dataframe\">\n",
       "  <thead>\n",
       "    <tr style=\"text-align: right;\">\n",
       "      <th></th>\n",
       "      <th>day</th>\n",
       "      <th>outlook</th>\n",
       "      <th>temp</th>\n",
       "      <th>humidity</th>\n",
       "      <th>wind</th>\n",
       "      <th>play</th>\n",
       "    </tr>\n",
       "  </thead>\n",
       "  <tbody>\n",
       "    <tr>\n",
       "      <th>0</th>\n",
       "      <td>D1</td>\n",
       "      <td>Sunny</td>\n",
       "      <td>Hot</td>\n",
       "      <td>High</td>\n",
       "      <td>Weak</td>\n",
       "      <td>No</td>\n",
       "    </tr>\n",
       "    <tr>\n",
       "      <th>1</th>\n",
       "      <td>D2</td>\n",
       "      <td>Sunny</td>\n",
       "      <td>Hot</td>\n",
       "      <td>High</td>\n",
       "      <td>Strong</td>\n",
       "      <td>No</td>\n",
       "    </tr>\n",
       "    <tr>\n",
       "      <th>2</th>\n",
       "      <td>D3</td>\n",
       "      <td>Overcast</td>\n",
       "      <td>Hot</td>\n",
       "      <td>High</td>\n",
       "      <td>Weak</td>\n",
       "      <td>Yes</td>\n",
       "    </tr>\n",
       "    <tr>\n",
       "      <th>3</th>\n",
       "      <td>D4</td>\n",
       "      <td>Rain</td>\n",
       "      <td>Mild</td>\n",
       "      <td>High</td>\n",
       "      <td>Weak</td>\n",
       "      <td>Yes</td>\n",
       "    </tr>\n",
       "    <tr>\n",
       "      <th>4</th>\n",
       "      <td>D5</td>\n",
       "      <td>Rain</td>\n",
       "      <td>Cool</td>\n",
       "      <td>Normal</td>\n",
       "      <td>Weak</td>\n",
       "      <td>Yes</td>\n",
       "    </tr>\n",
       "  </tbody>\n",
       "</table>\n",
       "</div>"
      ],
      "text/plain": [
       "  day   outlook  temp humidity    wind play\n",
       "0  D1     Sunny   Hot     High    Weak   No\n",
       "1  D2     Sunny   Hot     High  Strong   No\n",
       "2  D3  Overcast   Hot     High    Weak  Yes\n",
       "3  D4      Rain  Mild     High    Weak  Yes\n",
       "4  D5      Rain  Cool   Normal    Weak  Yes"
      ]
     },
     "execution_count": 5,
     "metadata": {},
     "output_type": "execute_result"
    }
   ],
   "source": [
    "tennis.head()"
   ]
  },
  {
   "cell_type": "markdown",
   "metadata": {},
   "source": [
    "## 2b. Full Training"
   ]
  },
  {
   "cell_type": "markdown",
   "metadata": {},
   "source": [
    "### Preparing the dataset"
   ]
  },
  {
   "cell_type": "code",
   "execution_count": 6,
   "metadata": {
    "collapsed": true
   },
   "outputs": [],
   "source": [
    "feature = iris[['sepal_length', 'sepal_width', 'petal_length', 'petal_width']].as_matrix()\n",
    "label = iris['species'].values\n",
    "\n",
    "feature_name = ['sepal_length', 'sepal_width', 'petal_length', 'petal_width']"
   ]
  },
  {
   "cell_type": "markdown",
   "metadata": {},
   "source": [
    "### Decision Tree training for Iris Dataset - Full training"
   ]
  },
  {
   "cell_type": "code",
   "execution_count": 7,
   "metadata": {
    "collapsed": true
   },
   "outputs": [],
   "source": [
    "from sklearn import tree\n",
    "\n",
    "clf_tree_fulltrain = tree.DecisionTreeClassifier()\n",
    "clf_tree_fulltrain = clf_tree_fulltrain.fit(feature, label)"
   ]
  },
  {
   "cell_type": "code",
   "execution_count": 8,
   "metadata": {},
   "outputs": [
    {
     "data": {
      "image/svg+xml": [
       "<?xml version=\"1.0\" encoding=\"UTF-8\" standalone=\"no\"?>\n",
       "<!DOCTYPE svg PUBLIC \"-//W3C//DTD SVG 1.1//EN\"\n",
       " \"http://www.w3.org/Graphics/SVG/1.1/DTD/svg11.dtd\">\n",
       "<!-- Generated by graphviz version 2.38.0 (20140413.2041)\n",
       " -->\n",
       "<!-- Title: Tree Pages: 1 -->\n",
       "<svg width=\"790pt\" height=\"581pt\"\n",
       " viewBox=\"0.00 0.00 790.00 581.00\" xmlns=\"http://www.w3.org/2000/svg\" xmlns:xlink=\"http://www.w3.org/1999/xlink\">\n",
       "<g id=\"graph0\" class=\"graph\" transform=\"scale(1 1) rotate(0) translate(4 577)\">\n",
       "<title>Tree</title>\n",
       "<polygon fill=\"white\" stroke=\"none\" points=\"-4,4 -4,-577 786,-577 786,4 -4,4\"/>\n",
       "<!-- 0 -->\n",
       "<g id=\"node1\" class=\"node\"><title>0</title>\n",
       "<polygon fill=\"none\" stroke=\"black\" points=\"476.5,-573 350.5,-573 350.5,-505 476.5,-505 476.5,-573\"/>\n",
       "<text text-anchor=\"middle\" x=\"413.5\" y=\"-557.8\" font-family=\"Times,serif\" font-size=\"14.00\">petal_width &lt;= 0.8</text>\n",
       "<text text-anchor=\"middle\" x=\"413.5\" y=\"-542.8\" font-family=\"Times,serif\" font-size=\"14.00\">gini = 0.6667</text>\n",
       "<text text-anchor=\"middle\" x=\"413.5\" y=\"-527.8\" font-family=\"Times,serif\" font-size=\"14.00\">samples = 150</text>\n",
       "<text text-anchor=\"middle\" x=\"413.5\" y=\"-512.8\" font-family=\"Times,serif\" font-size=\"14.00\">value = [50, 50, 50]</text>\n",
       "</g>\n",
       "<!-- 1 -->\n",
       "<g id=\"node2\" class=\"node\"><title>1</title>\n",
       "<polygon fill=\"none\" stroke=\"black\" points=\"401,-461.5 288,-461.5 288,-408.5 401,-408.5 401,-461.5\"/>\n",
       "<text text-anchor=\"middle\" x=\"344.5\" y=\"-446.3\" font-family=\"Times,serif\" font-size=\"14.00\">gini = 0.0</text>\n",
       "<text text-anchor=\"middle\" x=\"344.5\" y=\"-431.3\" font-family=\"Times,serif\" font-size=\"14.00\">samples = 50</text>\n",
       "<text text-anchor=\"middle\" x=\"344.5\" y=\"-416.3\" font-family=\"Times,serif\" font-size=\"14.00\">value = [50, 0, 0]</text>\n",
       "</g>\n",
       "<!-- 0&#45;&gt;1 -->\n",
       "<g id=\"edge1\" class=\"edge\"><title>0&#45;&gt;1</title>\n",
       "<path fill=\"none\" stroke=\"black\" d=\"M391.098,-504.884C383.509,-493.666 375.027,-481.126 367.4,-469.852\"/>\n",
       "<polygon fill=\"black\" stroke=\"black\" points=\"370.266,-467.842 361.763,-461.52 364.468,-471.764 370.266,-467.842\"/>\n",
       "<text text-anchor=\"middle\" x=\"357.026\" y=\"-482.367\" font-family=\"Times,serif\" font-size=\"14.00\">True</text>\n",
       "</g>\n",
       "<!-- 2 -->\n",
       "<g id=\"node3\" class=\"node\"><title>2</title>\n",
       "<polygon fill=\"none\" stroke=\"black\" points=\"547.5,-469 419.5,-469 419.5,-401 547.5,-401 547.5,-469\"/>\n",
       "<text text-anchor=\"middle\" x=\"483.5\" y=\"-453.8\" font-family=\"Times,serif\" font-size=\"14.00\">petal_width &lt;= 1.75</text>\n",
       "<text text-anchor=\"middle\" x=\"483.5\" y=\"-438.8\" font-family=\"Times,serif\" font-size=\"14.00\">gini = 0.5</text>\n",
       "<text text-anchor=\"middle\" x=\"483.5\" y=\"-423.8\" font-family=\"Times,serif\" font-size=\"14.00\">samples = 100</text>\n",
       "<text text-anchor=\"middle\" x=\"483.5\" y=\"-408.8\" font-family=\"Times,serif\" font-size=\"14.00\">value = [0, 50, 50]</text>\n",
       "</g>\n",
       "<!-- 0&#45;&gt;2 -->\n",
       "<g id=\"edge2\" class=\"edge\"><title>0&#45;&gt;2</title>\n",
       "<path fill=\"none\" stroke=\"black\" d=\"M436.227,-504.884C442.157,-496.243 448.624,-486.819 454.819,-477.793\"/>\n",
       "<polygon fill=\"black\" stroke=\"black\" points=\"457.875,-479.525 460.647,-469.299 452.103,-475.564 457.875,-479.525\"/>\n",
       "<text text-anchor=\"middle\" x=\"465.22\" y=\"-490.178\" font-family=\"Times,serif\" font-size=\"14.00\">False</text>\n",
       "</g>\n",
       "<!-- 3 -->\n",
       "<g id=\"node4\" class=\"node\"><title>3</title>\n",
       "<polygon fill=\"none\" stroke=\"black\" points=\"449,-365 318,-365 318,-297 449,-297 449,-365\"/>\n",
       "<text text-anchor=\"middle\" x=\"383.5\" y=\"-349.8\" font-family=\"Times,serif\" font-size=\"14.00\">petal_length &lt;= 4.95</text>\n",
       "<text text-anchor=\"middle\" x=\"383.5\" y=\"-334.8\" font-family=\"Times,serif\" font-size=\"14.00\">gini = 0.168</text>\n",
       "<text text-anchor=\"middle\" x=\"383.5\" y=\"-319.8\" font-family=\"Times,serif\" font-size=\"14.00\">samples = 54</text>\n",
       "<text text-anchor=\"middle\" x=\"383.5\" y=\"-304.8\" font-family=\"Times,serif\" font-size=\"14.00\">value = [0, 49, 5]</text>\n",
       "</g>\n",
       "<!-- 2&#45;&gt;3 -->\n",
       "<g id=\"edge3\" class=\"edge\"><title>2&#45;&gt;3</title>\n",
       "<path fill=\"none\" stroke=\"black\" d=\"M451.033,-400.884C442.213,-391.887 432.559,-382.041 423.381,-372.678\"/>\n",
       "<polygon fill=\"black\" stroke=\"black\" points=\"425.646,-369.99 416.146,-365.299 420.648,-374.89 425.646,-369.99\"/>\n",
       "</g>\n",
       "<!-- 12 -->\n",
       "<g id=\"node13\" class=\"node\"><title>12</title>\n",
       "<polygon fill=\"none\" stroke=\"black\" points=\"650,-365 519,-365 519,-297 650,-297 650,-365\"/>\n",
       "<text text-anchor=\"middle\" x=\"584.5\" y=\"-349.8\" font-family=\"Times,serif\" font-size=\"14.00\">petal_length &lt;= 4.85</text>\n",
       "<text text-anchor=\"middle\" x=\"584.5\" y=\"-334.8\" font-family=\"Times,serif\" font-size=\"14.00\">gini = 0.0425</text>\n",
       "<text text-anchor=\"middle\" x=\"584.5\" y=\"-319.8\" font-family=\"Times,serif\" font-size=\"14.00\">samples = 46</text>\n",
       "<text text-anchor=\"middle\" x=\"584.5\" y=\"-304.8\" font-family=\"Times,serif\" font-size=\"14.00\">value = [0, 1, 45]</text>\n",
       "</g>\n",
       "<!-- 2&#45;&gt;12 -->\n",
       "<g id=\"edge12\" class=\"edge\"><title>2&#45;&gt;12</title>\n",
       "<path fill=\"none\" stroke=\"black\" d=\"M516.292,-400.884C525.2,-391.887 534.95,-382.041 544.22,-372.678\"/>\n",
       "<polygon fill=\"black\" stroke=\"black\" points=\"546.978,-374.868 551.527,-365.299 542.004,-369.943 546.978,-374.868\"/>\n",
       "</g>\n",
       "<!-- 4 -->\n",
       "<g id=\"node5\" class=\"node\"><title>4</title>\n",
       "<polygon fill=\"none\" stroke=\"black\" points=\"248.5,-261 120.5,-261 120.5,-193 248.5,-193 248.5,-261\"/>\n",
       "<text text-anchor=\"middle\" x=\"184.5\" y=\"-245.8\" font-family=\"Times,serif\" font-size=\"14.00\">petal_width &lt;= 1.65</text>\n",
       "<text text-anchor=\"middle\" x=\"184.5\" y=\"-230.8\" font-family=\"Times,serif\" font-size=\"14.00\">gini = 0.0408</text>\n",
       "<text text-anchor=\"middle\" x=\"184.5\" y=\"-215.8\" font-family=\"Times,serif\" font-size=\"14.00\">samples = 48</text>\n",
       "<text text-anchor=\"middle\" x=\"184.5\" y=\"-200.8\" font-family=\"Times,serif\" font-size=\"14.00\">value = [0, 47, 1]</text>\n",
       "</g>\n",
       "<!-- 3&#45;&gt;4 -->\n",
       "<g id=\"edge4\" class=\"edge\"><title>3&#45;&gt;4</title>\n",
       "<path fill=\"none\" stroke=\"black\" d=\"M318.89,-296.884C299.404,-286.895 277.873,-275.86 257.861,-265.602\"/>\n",
       "<polygon fill=\"black\" stroke=\"black\" points=\"259.281,-262.397 248.785,-260.95 256.088,-268.626 259.281,-262.397\"/>\n",
       "</g>\n",
       "<!-- 7 -->\n",
       "<g id=\"node8\" class=\"node\"><title>7</title>\n",
       "<polygon fill=\"none\" stroke=\"black\" points=\"447.5,-261 319.5,-261 319.5,-193 447.5,-193 447.5,-261\"/>\n",
       "<text text-anchor=\"middle\" x=\"383.5\" y=\"-245.8\" font-family=\"Times,serif\" font-size=\"14.00\">petal_width &lt;= 1.55</text>\n",
       "<text text-anchor=\"middle\" x=\"383.5\" y=\"-230.8\" font-family=\"Times,serif\" font-size=\"14.00\">gini = 0.4444</text>\n",
       "<text text-anchor=\"middle\" x=\"383.5\" y=\"-215.8\" font-family=\"Times,serif\" font-size=\"14.00\">samples = 6</text>\n",
       "<text text-anchor=\"middle\" x=\"383.5\" y=\"-200.8\" font-family=\"Times,serif\" font-size=\"14.00\">value = [0, 2, 4]</text>\n",
       "</g>\n",
       "<!-- 3&#45;&gt;7 -->\n",
       "<g id=\"edge7\" class=\"edge\"><title>3&#45;&gt;7</title>\n",
       "<path fill=\"none\" stroke=\"black\" d=\"M383.5,-296.884C383.5,-288.778 383.5,-279.982 383.5,-271.472\"/>\n",
       "<polygon fill=\"black\" stroke=\"black\" points=\"387,-271.299 383.5,-261.299 380,-271.299 387,-271.299\"/>\n",
       "</g>\n",
       "<!-- 5 -->\n",
       "<g id=\"node6\" class=\"node\"><title>5</title>\n",
       "<polygon fill=\"none\" stroke=\"black\" points=\"113,-149.5 0,-149.5 0,-96.5 113,-96.5 113,-149.5\"/>\n",
       "<text text-anchor=\"middle\" x=\"56.5\" y=\"-134.3\" font-family=\"Times,serif\" font-size=\"14.00\">gini = 0.0</text>\n",
       "<text text-anchor=\"middle\" x=\"56.5\" y=\"-119.3\" font-family=\"Times,serif\" font-size=\"14.00\">samples = 47</text>\n",
       "<text text-anchor=\"middle\" x=\"56.5\" y=\"-104.3\" font-family=\"Times,serif\" font-size=\"14.00\">value = [0, 47, 0]</text>\n",
       "</g>\n",
       "<!-- 4&#45;&gt;5 -->\n",
       "<g id=\"edge5\" class=\"edge\"><title>4&#45;&gt;5</title>\n",
       "<path fill=\"none\" stroke=\"black\" d=\"M142.942,-192.884C128.037,-181.006 111.272,-167.646 96.5013,-155.876\"/>\n",
       "<polygon fill=\"black\" stroke=\"black\" points=\"98.5269,-153.015 88.525,-149.52 94.1644,-158.489 98.5269,-153.015\"/>\n",
       "</g>\n",
       "<!-- 6 -->\n",
       "<g id=\"node7\" class=\"node\"><title>6</title>\n",
       "<polygon fill=\"none\" stroke=\"black\" points=\"237.5,-149.5 131.5,-149.5 131.5,-96.5 237.5,-96.5 237.5,-149.5\"/>\n",
       "<text text-anchor=\"middle\" x=\"184.5\" y=\"-134.3\" font-family=\"Times,serif\" font-size=\"14.00\">gini = 0.0</text>\n",
       "<text text-anchor=\"middle\" x=\"184.5\" y=\"-119.3\" font-family=\"Times,serif\" font-size=\"14.00\">samples = 1</text>\n",
       "<text text-anchor=\"middle\" x=\"184.5\" y=\"-104.3\" font-family=\"Times,serif\" font-size=\"14.00\">value = [0, 0, 1]</text>\n",
       "</g>\n",
       "<!-- 4&#45;&gt;6 -->\n",
       "<g id=\"edge6\" class=\"edge\"><title>4&#45;&gt;6</title>\n",
       "<path fill=\"none\" stroke=\"black\" d=\"M184.5,-192.884C184.5,-182.326 184.5,-170.597 184.5,-159.854\"/>\n",
       "<polygon fill=\"black\" stroke=\"black\" points=\"188,-159.52 184.5,-149.52 181,-159.52 188,-159.52\"/>\n",
       "</g>\n",
       "<!-- 8 -->\n",
       "<g id=\"node9\" class=\"node\"><title>8</title>\n",
       "<polygon fill=\"none\" stroke=\"black\" points=\"361.5,-149.5 255.5,-149.5 255.5,-96.5 361.5,-96.5 361.5,-149.5\"/>\n",
       "<text text-anchor=\"middle\" x=\"308.5\" y=\"-134.3\" font-family=\"Times,serif\" font-size=\"14.00\">gini = 0.0</text>\n",
       "<text text-anchor=\"middle\" x=\"308.5\" y=\"-119.3\" font-family=\"Times,serif\" font-size=\"14.00\">samples = 3</text>\n",
       "<text text-anchor=\"middle\" x=\"308.5\" y=\"-104.3\" font-family=\"Times,serif\" font-size=\"14.00\">value = [0, 0, 3]</text>\n",
       "</g>\n",
       "<!-- 7&#45;&gt;8 -->\n",
       "<g id=\"edge8\" class=\"edge\"><title>7&#45;&gt;8</title>\n",
       "<path fill=\"none\" stroke=\"black\" d=\"M359.15,-192.884C350.901,-181.666 341.681,-169.126 333.391,-157.852\"/>\n",
       "<polygon fill=\"black\" stroke=\"black\" points=\"336.008,-155.503 327.265,-149.52 330.369,-159.65 336.008,-155.503\"/>\n",
       "</g>\n",
       "<!-- 9 -->\n",
       "<g id=\"node10\" class=\"node\"><title>9</title>\n",
       "<polygon fill=\"none\" stroke=\"black\" points=\"513,-157 380,-157 380,-89 513,-89 513,-157\"/>\n",
       "<text text-anchor=\"middle\" x=\"446.5\" y=\"-141.8\" font-family=\"Times,serif\" font-size=\"14.00\">sepal_length &lt;= 6.95</text>\n",
       "<text text-anchor=\"middle\" x=\"446.5\" y=\"-126.8\" font-family=\"Times,serif\" font-size=\"14.00\">gini = 0.4444</text>\n",
       "<text text-anchor=\"middle\" x=\"446.5\" y=\"-111.8\" font-family=\"Times,serif\" font-size=\"14.00\">samples = 3</text>\n",
       "<text text-anchor=\"middle\" x=\"446.5\" y=\"-96.8\" font-family=\"Times,serif\" font-size=\"14.00\">value = [0, 2, 1]</text>\n",
       "</g>\n",
       "<!-- 7&#45;&gt;9 -->\n",
       "<g id=\"edge9\" class=\"edge\"><title>7&#45;&gt;9</title>\n",
       "<path fill=\"none\" stroke=\"black\" d=\"M403.954,-192.884C409.236,-184.332 414.992,-175.013 420.514,-166.072\"/>\n",
       "<polygon fill=\"black\" stroke=\"black\" points=\"423.656,-167.647 425.933,-157.299 417.7,-163.968 423.656,-167.647\"/>\n",
       "</g>\n",
       "<!-- 10 -->\n",
       "<g id=\"node11\" class=\"node\"><title>10</title>\n",
       "<polygon fill=\"none\" stroke=\"black\" points=\"437.5,-53 331.5,-53 331.5,-0 437.5,-0 437.5,-53\"/>\n",
       "<text text-anchor=\"middle\" x=\"384.5\" y=\"-37.8\" font-family=\"Times,serif\" font-size=\"14.00\">gini = 0.0</text>\n",
       "<text text-anchor=\"middle\" x=\"384.5\" y=\"-22.8\" font-family=\"Times,serif\" font-size=\"14.00\">samples = 2</text>\n",
       "<text text-anchor=\"middle\" x=\"384.5\" y=\"-7.8\" font-family=\"Times,serif\" font-size=\"14.00\">value = [0, 2, 0]</text>\n",
       "</g>\n",
       "<!-- 9&#45;&gt;10 -->\n",
       "<g id=\"edge10\" class=\"edge\"><title>9&#45;&gt;10</title>\n",
       "<path fill=\"none\" stroke=\"black\" d=\"M424.815,-88.9485C419.054,-80.1664 412.819,-70.6629 407.014,-61.815\"/>\n",
       "<polygon fill=\"black\" stroke=\"black\" points=\"409.797,-59.6779 401.385,-53.2367 403.945,-63.5178 409.797,-59.6779\"/>\n",
       "</g>\n",
       "<!-- 11 -->\n",
       "<g id=\"node12\" class=\"node\"><title>11</title>\n",
       "<polygon fill=\"none\" stroke=\"black\" points=\"561.5,-53 455.5,-53 455.5,-0 561.5,-0 561.5,-53\"/>\n",
       "<text text-anchor=\"middle\" x=\"508.5\" y=\"-37.8\" font-family=\"Times,serif\" font-size=\"14.00\">gini = 0.0</text>\n",
       "<text text-anchor=\"middle\" x=\"508.5\" y=\"-22.8\" font-family=\"Times,serif\" font-size=\"14.00\">samples = 1</text>\n",
       "<text text-anchor=\"middle\" x=\"508.5\" y=\"-7.8\" font-family=\"Times,serif\" font-size=\"14.00\">value = [0, 0, 1]</text>\n",
       "</g>\n",
       "<!-- 9&#45;&gt;11 -->\n",
       "<g id=\"edge11\" class=\"edge\"><title>9&#45;&gt;11</title>\n",
       "<path fill=\"none\" stroke=\"black\" d=\"M468.185,-88.9485C473.946,-80.1664 480.181,-70.6629 485.986,-61.815\"/>\n",
       "<polygon fill=\"black\" stroke=\"black\" points=\"489.055,-63.5178 491.615,-53.2367 483.203,-59.6779 489.055,-63.5178\"/>\n",
       "</g>\n",
       "<!-- 13 -->\n",
       "<g id=\"node14\" class=\"node\"><title>13</title>\n",
       "<polygon fill=\"none\" stroke=\"black\" points=\"651,-261 518,-261 518,-193 651,-193 651,-261\"/>\n",
       "<text text-anchor=\"middle\" x=\"584.5\" y=\"-245.8\" font-family=\"Times,serif\" font-size=\"14.00\">sepal_length &lt;= 5.95</text>\n",
       "<text text-anchor=\"middle\" x=\"584.5\" y=\"-230.8\" font-family=\"Times,serif\" font-size=\"14.00\">gini = 0.4444</text>\n",
       "<text text-anchor=\"middle\" x=\"584.5\" y=\"-215.8\" font-family=\"Times,serif\" font-size=\"14.00\">samples = 3</text>\n",
       "<text text-anchor=\"middle\" x=\"584.5\" y=\"-200.8\" font-family=\"Times,serif\" font-size=\"14.00\">value = [0, 1, 2]</text>\n",
       "</g>\n",
       "<!-- 12&#45;&gt;13 -->\n",
       "<g id=\"edge13\" class=\"edge\"><title>12&#45;&gt;13</title>\n",
       "<path fill=\"none\" stroke=\"black\" d=\"M584.5,-296.884C584.5,-288.778 584.5,-279.982 584.5,-271.472\"/>\n",
       "<polygon fill=\"black\" stroke=\"black\" points=\"588,-271.299 584.5,-261.299 581,-271.299 588,-271.299\"/>\n",
       "</g>\n",
       "<!-- 16 -->\n",
       "<g id=\"node17\" class=\"node\"><title>16</title>\n",
       "<polygon fill=\"none\" stroke=\"black\" points=\"782,-253.5 669,-253.5 669,-200.5 782,-200.5 782,-253.5\"/>\n",
       "<text text-anchor=\"middle\" x=\"725.5\" y=\"-238.3\" font-family=\"Times,serif\" font-size=\"14.00\">gini = 0.0</text>\n",
       "<text text-anchor=\"middle\" x=\"725.5\" y=\"-223.3\" font-family=\"Times,serif\" font-size=\"14.00\">samples = 43</text>\n",
       "<text text-anchor=\"middle\" x=\"725.5\" y=\"-208.3\" font-family=\"Times,serif\" font-size=\"14.00\">value = [0, 0, 43]</text>\n",
       "</g>\n",
       "<!-- 12&#45;&gt;16 -->\n",
       "<g id=\"edge16\" class=\"edge\"><title>12&#45;&gt;16</title>\n",
       "<path fill=\"none\" stroke=\"black\" d=\"M630.279,-296.884C646.85,-284.896 665.508,-271.399 681.888,-259.549\"/>\n",
       "<polygon fill=\"black\" stroke=\"black\" points=\"684.172,-262.217 690.222,-253.52 680.069,-256.545 684.172,-262.217\"/>\n",
       "</g>\n",
       "<!-- 14 -->\n",
       "<g id=\"node15\" class=\"node\"><title>14</title>\n",
       "<polygon fill=\"none\" stroke=\"black\" points=\"637.5,-149.5 531.5,-149.5 531.5,-96.5 637.5,-96.5 637.5,-149.5\"/>\n",
       "<text text-anchor=\"middle\" x=\"584.5\" y=\"-134.3\" font-family=\"Times,serif\" font-size=\"14.00\">gini = 0.0</text>\n",
       "<text text-anchor=\"middle\" x=\"584.5\" y=\"-119.3\" font-family=\"Times,serif\" font-size=\"14.00\">samples = 1</text>\n",
       "<text text-anchor=\"middle\" x=\"584.5\" y=\"-104.3\" font-family=\"Times,serif\" font-size=\"14.00\">value = [0, 1, 0]</text>\n",
       "</g>\n",
       "<!-- 13&#45;&gt;14 -->\n",
       "<g id=\"edge14\" class=\"edge\"><title>13&#45;&gt;14</title>\n",
       "<path fill=\"none\" stroke=\"black\" d=\"M584.5,-192.884C584.5,-182.326 584.5,-170.597 584.5,-159.854\"/>\n",
       "<polygon fill=\"black\" stroke=\"black\" points=\"588,-159.52 584.5,-149.52 581,-159.52 588,-159.52\"/>\n",
       "</g>\n",
       "<!-- 15 -->\n",
       "<g id=\"node16\" class=\"node\"><title>15</title>\n",
       "<polygon fill=\"none\" stroke=\"black\" points=\"761.5,-149.5 655.5,-149.5 655.5,-96.5 761.5,-96.5 761.5,-149.5\"/>\n",
       "<text text-anchor=\"middle\" x=\"708.5\" y=\"-134.3\" font-family=\"Times,serif\" font-size=\"14.00\">gini = 0.0</text>\n",
       "<text text-anchor=\"middle\" x=\"708.5\" y=\"-119.3\" font-family=\"Times,serif\" font-size=\"14.00\">samples = 2</text>\n",
       "<text text-anchor=\"middle\" x=\"708.5\" y=\"-104.3\" font-family=\"Times,serif\" font-size=\"14.00\">value = [0, 0, 2]</text>\n",
       "</g>\n",
       "<!-- 13&#45;&gt;15 -->\n",
       "<g id=\"edge15\" class=\"edge\"><title>13&#45;&gt;15</title>\n",
       "<path fill=\"none\" stroke=\"black\" d=\"M624.759,-192.884C639.199,-181.006 655.44,-167.646 669.749,-155.876\"/>\n",
       "<polygon fill=\"black\" stroke=\"black\" points=\"671.976,-158.576 677.476,-149.52 667.529,-153.17 671.976,-158.576\"/>\n",
       "</g>\n",
       "</g>\n",
       "</svg>\n"
      ],
      "text/plain": [
       "<graphviz.files.Source at 0x7fb33e56b978>"
      ]
     },
     "execution_count": 8,
     "metadata": {},
     "output_type": "execute_result"
    }
   ],
   "source": [
    "from graphviz import Source\n",
    "from sklearn import tree\n",
    "from IPython.display import SVG\n",
    "Source(tree.export_graphviz(clf_tree_fulltrain, out_file=None, feature_names=feature_name))"
   ]
  },
  {
   "cell_type": "markdown",
   "metadata": {},
   "source": [
    "### ANN training for Iris Dataset - Full training"
   ]
  },
  {
   "cell_type": "code",
   "execution_count": 9,
   "metadata": {
    "collapsed": true
   },
   "outputs": [],
   "source": [
    "from sklearn import neural_network\n",
    "from sklearn.neural_network import MLPClassifier\n",
    "\n",
    "clf_nn_fulltrain = MLPClassifier(solver='lbfgs', alpha=1e-5, hidden_layer_sizes=(5, 2))\n",
    "clf_nn_fulltrain = clf_nn_fulltrain.fit(feature, label)"
   ]
  },
  {
   "cell_type": "markdown",
   "metadata": {},
   "source": [
    "## 2c. Split test "
   ]
  },
  {
   "cell_type": "code",
   "execution_count": 10,
   "metadata": {
    "collapsed": true
   },
   "outputs": [],
   "source": [
    "# using previous feature and label\n",
    "from sklearn.model_selection import train_test_split\n",
    "\n",
    "feature_train, feature_test, label_train, label_test = train_test_split(feature, label, test_size = 0.1)"
   ]
  },
  {
   "cell_type": "markdown",
   "metadata": {},
   "source": [
    "### Decision Tree training for Iris Dataset - Split Test"
   ]
  },
  {
   "cell_type": "code",
   "execution_count": 11,
   "metadata": {},
   "outputs": [
    {
     "data": {
      "text/plain": [
       "array([[7, 0, 0],\n",
       "       [0, 4, 0],\n",
       "       [0, 0, 4]])"
      ]
     },
     "execution_count": 11,
     "metadata": {},
     "output_type": "execute_result"
    }
   ],
   "source": [
    "from sklearn import tree\n",
    "\n",
    "clf_tree_split = tree.DecisionTreeClassifier()\n",
    "clf_tree_split.fit(feature_train, label_train)\n",
    "\n",
    "class_predict = clf_tree_split.predict(feature_test)\n",
    "\n",
    "from sklearn.metrics import confusion_matrix\n",
    "\n",
    "confusion_matrix(class_predict, label_test)"
   ]
  },
  {
   "cell_type": "markdown",
   "metadata": {},
   "source": [
    "### ANN training for Iris Dataset - Split Test"
   ]
  },
  {
   "cell_type": "code",
   "execution_count": 12,
   "metadata": {},
   "outputs": [
    {
     "data": {
      "text/plain": [
       "array([[7, 0, 0],\n",
       "       [0, 4, 4],\n",
       "       [0, 0, 0]])"
      ]
     },
     "execution_count": 12,
     "metadata": {},
     "output_type": "execute_result"
    }
   ],
   "source": [
    "from sklearn.neural_network import MLPClassifier\n",
    "\n",
    "clf_nn_split = MLPClassifier(solver='lbfgs', alpha=1e-5, hidden_layer_sizes=(5, 2))\n",
    "\n",
    "clf_nn_split.fit(feature_train, label_train)\n",
    "\n",
    "class_predict = clf_nn_split.predict(feature_test)\n",
    "\n",
    "from sklearn.metrics import confusion_matrix\n",
    "\n",
    "confusion_matrix(class_predict, label_test)"
   ]
  },
  {
   "cell_type": "markdown",
   "metadata": {},
   "source": [
    "## 2d. 10-fold cross validation"
   ]
  },
  {
   "cell_type": "markdown",
   "metadata": {},
   "source": [
    "### Decision Tree training for Iris Dataset - 10-fold"
   ]
  },
  {
   "cell_type": "code",
   "execution_count": 26,
   "metadata": {},
   "outputs": [
    {
     "name": "stdout",
     "output_type": "stream",
     "text": [
      "KFold(n_splits=10, random_state=None, shuffle=False)\n",
      "Accuracy (1) : 1.0\n",
      "Accuracy (2) : 1.0\n",
      "Accuracy (3) : 1.0\n",
      "Accuracy (4) : 1.0\n",
      "Accuracy (5) : 0.933333333333\n",
      "Accuracy (6) : 0.866666666667\n",
      "Accuracy (7) : 1.0\n",
      "Accuracy (8) : 0.866666666667\n",
      "Accuracy (9) : 0.733333333333\n",
      "Accuracy (10) : 1.0\n"
     ]
    }
   ],
   "source": [
    "from sklearn.model_selection import KFold\n",
    "from sklearn.metrics import accuracy_score\n",
    "\n",
    "kf = KFold(n_splits = 10)\n",
    "print(kf)\n",
    "counter = 0 \n",
    "\n",
    "for train_index, test_index in kf.split(feature):\n",
    "    #print(\"TRAIN:\", train_index, \"TEST:\", test_index)\n",
    "    clf_tree_10fold = tree.DecisionTreeClassifier()\n",
    "    clf_tree_10fold.fit(feature[train_index], label[train_index])    \n",
    "    label_predict = clf_tree_10fold.predict(feature[test_index])\n",
    "    #print(label_predict)\n",
    "    #print(label[test_index])\n",
    "    counter += 1\n",
    "    print(\"Accuracy \" + \"(\" + str(counter) + \") : \" + str(accuracy_score(label_predict, label[test_index])))"
   ]
  },
  {
   "cell_type": "markdown",
   "metadata": {},
   "source": [
    "### ANN training for Iris Dataset - 10-fold"
   ]
  },
  {
   "cell_type": "code",
   "execution_count": 25,
   "metadata": {},
   "outputs": [
    {
     "name": "stdout",
     "output_type": "stream",
     "text": [
      "KFold(n_splits=10, random_state=None, shuffle=False)\n",
      "Accuracy (1) : 0.0\n",
      "Accuracy (2) : 0.0\n",
      "Accuracy (3) : 0.0\n",
      "Accuracy (4) : 0.0\n",
      "Accuracy (5) : 0.0\n",
      "Accuracy (6) : 0.0\n",
      "Accuracy (7) : 0.333333333333\n",
      "Accuracy (8) : 1.0\n",
      "Accuracy (9) : 1.0\n",
      "Accuracy (10) : 1.0\n"
     ]
    }
   ],
   "source": [
    "from sklearn.model_selection import KFold\n",
    "from sklearn.metrics import accuracy_score\n",
    "\n",
    "kf = KFold(n_splits = 10)\n",
    "print(kf)\n",
    "counter = 0 \n",
    "\n",
    "for train_index, test_index in kf.split(feature):\n",
    "    #print(\"TRAIN:\", train_index, \"TEST:\", test_index)\n",
    "    clf_nn_10fold = MLPClassifier(solver='lbfgs', alpha=1e-5, hidden_layer_sizes=(5, 2))\n",
    "    for i in range(0,10):\n",
    "        clf_nn_10fold.fit(feature_train, label_train)\n",
    "\n",
    "    class_predict = clf_nn_10fold.predict(feature_test)\n",
    "    #print(label_predict)\n",
    "    #print(label[test_index])\n",
    "    counter += 1\n",
    "    print(\"Accuracy \" + \"(\" + str(counter) + \") : \" + str(accuracy_score(label_predict, label[test_index])))"
   ]
  },
  {
   "cell_type": "markdown",
   "metadata": {},
   "source": [
    "## 2e. Save Model"
   ]
  },
  {
   "cell_type": "code",
   "execution_count": 28,
   "metadata": {
    "collapsed": true
   },
   "outputs": [
    {
     "name": "stdout",
     "output_type": "stream",
     "text": [
      "Model have been saved to model1.pkl\n"
     ]
    }
   ],
   "source": [
    "from sklearn.externals import joblib\n",
    "    \n",
    "def saveModel(clf, filename):\n",
    "    joblib.dump(clf, filename) \n",
    "    print(\"Model have been saved to \" + filename)\n",
    "\n",
    "    \n",
    "saveModel(clf_nn_split, 'model1.pkl')    "
   ]
  },
  {
   "cell_type": "markdown",
   "metadata": {},
   "source": [
    "## 2f. Load Model"
   ]
  },
  {
   "cell_type": "code",
   "execution_count": 30,
   "metadata": {},
   "outputs": [
    {
     "name": "stdout",
     "output_type": "stream",
     "text": [
      "Load model from model1.pkl\n",
      "MLPClassifier(activation='relu', alpha=1e-05, batch_size='auto', beta_1=0.9,\n",
      "       beta_2=0.999, early_stopping=False, epsilon=1e-08,\n",
      "       hidden_layer_sizes=(5, 2), learning_rate='constant',\n",
      "       learning_rate_init=0.001, max_iter=200, momentum=0.9,\n",
      "       nesterovs_momentum=True, power_t=0.5, random_state=None,\n",
      "       shuffle=True, solver='lbfgs', tol=0.0001, validation_fraction=0.1,\n",
      "       verbose=False, warm_start=False)\n"
     ]
    }
   ],
   "source": [
    "from sklearn.externals import joblib\n",
    "\n",
    "def loadModel(filename):\n",
    "    print(\"Load model from \" + filename)\n",
    "    clf = joblib.load(filename) \n",
    "    return clf\n",
    "\n",
    "model = loadModel('model1.pkl')\n",
    "print(model)"
   ]
  },
  {
   "cell_type": "markdown",
   "metadata": {},
   "source": [
    "## 2g. Create New Instance"
   ]
  },
  {
   "cell_type": "markdown",
   "metadata": {},
   "source": [
    "Creating new instance dapat dilakukan dengan membuat array yang panjangnya sesuai dengan feature yang digunakan oleh model serta tipe data yang sama. Pada kasus ini, data iris menggunakan 4 fitur yang semua tipe datanya adalah numeric."
   ]
  },
  {
   "cell_type": "code",
   "execution_count": 36,
   "metadata": {
    "collapsed": true
   },
   "outputs": [],
   "source": [
    "#creating new instance\n",
    "\n",
    "g = [5, 3.5, 1, 1]"
   ]
  },
  {
   "cell_type": "markdown",
   "metadata": {},
   "source": [
    "## 2h. Classification"
   ]
  },
  {
   "cell_type": "code",
   "execution_count": 37,
   "metadata": {},
   "outputs": [
    {
     "name": "stdout",
     "output_type": "stream",
     "text": [
      "['versicolor']\n",
      "['versicolor']\n"
     ]
    }
   ],
   "source": [
    "y_tree = clf_tree_fulltrain.predict([g])\n",
    "y_nn = clf_nn_fulltrain.predict([g])\n",
    "print(y_tree)\n",
    "print(y_nn)"
   ]
  },
  {
   "cell_type": "markdown",
   "metadata": {},
   "source": [
    "## 2i. Feature Analysis using Python"
   ]
  },
  {
   "cell_type": "code",
   "execution_count": 38,
   "metadata": {},
   "outputs": [
    {
     "data": {
      "text/html": [
       "<div>\n",
       "<style>\n",
       "    .dataframe thead tr:only-child th {\n",
       "        text-align: right;\n",
       "    }\n",
       "\n",
       "    .dataframe thead th {\n",
       "        text-align: left;\n",
       "    }\n",
       "\n",
       "    .dataframe tbody tr th {\n",
       "        vertical-align: top;\n",
       "    }\n",
       "</style>\n",
       "<table border=\"1\" class=\"dataframe\">\n",
       "  <thead>\n",
       "    <tr style=\"text-align: right;\">\n",
       "      <th></th>\n",
       "      <th>sepal_length</th>\n",
       "      <th>sepal_width</th>\n",
       "      <th>petal_length</th>\n",
       "      <th>petal_width</th>\n",
       "      <th>species</th>\n",
       "    </tr>\n",
       "  </thead>\n",
       "  <tbody>\n",
       "    <tr>\n",
       "      <th>0</th>\n",
       "      <td>5.1</td>\n",
       "      <td>3.5</td>\n",
       "      <td>1.4</td>\n",
       "      <td>0.2</td>\n",
       "      <td>setosa</td>\n",
       "    </tr>\n",
       "    <tr>\n",
       "      <th>1</th>\n",
       "      <td>4.9</td>\n",
       "      <td>3.0</td>\n",
       "      <td>1.4</td>\n",
       "      <td>0.2</td>\n",
       "      <td>setosa</td>\n",
       "    </tr>\n",
       "    <tr>\n",
       "      <th>2</th>\n",
       "      <td>4.7</td>\n",
       "      <td>3.2</td>\n",
       "      <td>1.3</td>\n",
       "      <td>0.2</td>\n",
       "      <td>setosa</td>\n",
       "    </tr>\n",
       "    <tr>\n",
       "      <th>3</th>\n",
       "      <td>4.6</td>\n",
       "      <td>3.1</td>\n",
       "      <td>1.5</td>\n",
       "      <td>0.2</td>\n",
       "      <td>setosa</td>\n",
       "    </tr>\n",
       "    <tr>\n",
       "      <th>4</th>\n",
       "      <td>5.0</td>\n",
       "      <td>3.6</td>\n",
       "      <td>1.4</td>\n",
       "      <td>0.2</td>\n",
       "      <td>setosa</td>\n",
       "    </tr>\n",
       "  </tbody>\n",
       "</table>\n",
       "</div>"
      ],
      "text/plain": [
       "   sepal_length  sepal_width  petal_length  petal_width species\n",
       "0           5.1          3.5           1.4          0.2  setosa\n",
       "1           4.9          3.0           1.4          0.2  setosa\n",
       "2           4.7          3.2           1.3          0.2  setosa\n",
       "3           4.6          3.1           1.5          0.2  setosa\n",
       "4           5.0          3.6           1.4          0.2  setosa"
      ]
     },
     "execution_count": 38,
     "metadata": {},
     "output_type": "execute_result"
    }
   ],
   "source": [
    "iris.head()"
   ]
  },
  {
   "cell_type": "code",
   "execution_count": 20,
   "metadata": {},
   "outputs": [
    {
     "name": "stdout",
     "output_type": "stream",
     "text": [
      "Plotting sepal_length with Species\n"
     ]
    },
    {
     "data": {
      "image/png": "[encoded data removed]",
      "text/plain": [
       "<matplotlib.figure.Figure at 0x7fb3387bf898>"
      ]
     },
     "metadata": {},
     "output_type": "display_data"
    },
    {
     "name": "stdout",
     "output_type": "stream",
     "text": [
      "\n",
      "\n",
      "Plotting sepal_width with Species\n"
     ]
    },
    {
     "data": {
      "image/png": "[encoded data removed]",
      "text/plain": [
       "<matplotlib.figure.Figure at 0x7fb3382b41d0>"
      ]
     },
     "metadata": {},
     "output_type": "display_data"
    },
    {
     "name": "stdout",
     "output_type": "stream",
     "text": [
      "\n",
      "\n",
      "Plotting petal_length with Species\n"
     ]
    },
    {
     "data": {
      "image/png": "[encoded data removed]",
      "text/plain": [
       "<matplotlib.figure.Figure at 0x7fb338225e80>"
      ]
     },
     "metadata": {},
     "output_type": "display_data"
    },
    {
     "name": "stdout",
     "output_type": "stream",
     "text": [
      "\n",
      "\n",
      "Plotting petal_width with Species\n"
     ]
    },
    {
     "data": {
      "image/png": "[encoded data removed]",
      "text/plain": [
       "<matplotlib.figure.Figure at 0x7fb33810e8d0>"
      ]
     },
     "metadata": {},
     "output_type": "display_data"
    },
    {
     "name": "stdout",
     "output_type": "stream",
     "text": [
      "\n",
      "\n"
     ]
    }
   ],
   "source": [
    "import seaborn as sns\n",
    "sns.set(style=\"whitegrid\", color_codes=True)\n",
    "\n",
    "for fea in feature_name:\n",
    "    print(\"Plotting \" + fea + \" with Species\")\n",
    "    sns.stripplot(x=fea,y='species', data=iris, jitter=True)\n",
    "    sns.plt.show()\n",
    "    print(\"\\n\")"
   ]
  }
 ],
 "metadata": {
  "anaconda-cloud": {},
  "kernelspec": {
   "display_name": "Python 3",
   "language": "python",
   "name": "python3"
  },
  "language_info": {
   "codemirror_mode": {
    "name": "ipython",
    "version": 3
   },
   "file_extension": ".py",
   "mimetype": "text/x-python",
   "name": "python",
   "nbconvert_exporter": "python",
   "pygments_lexer": "ipython3",
   "version": "3.6.1"
  }
 },
 "nbformat": 4,
 "nbformat_minor": 2
}
